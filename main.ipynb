{
  "cells": [
    {
      "cell_type": "code",
      "execution_count": null,
      "metadata": {},
      "outputs": [],
      "source": [
        "# For Google colab\n",
        "# !git clone https://github.com/WryBin/Steam_pre_commit\n",
        "# !mv Steam_pre_commit/* ."
      ]
    },
    {
      "cell_type": "code",
      "execution_count": null,
      "metadata": {},
      "outputs": [],
      "source": [
        "import numpy as np\n",
        "import pandas as pd\n",
        "import seaborn as sns\n",
        "import lightgbm as lgb\n",
        "from matplotlib import pyplot as plt\n",
        "from sklearn.model_selection import train_test_split\n",
        "from sklearn.metrics import mean_squared_error\n",
        "\n",
        "import utils\n",
        "import models\n",
        "\n",
        "\n",
        "\n",
        "# 读取数据\n",
        "# combi = pd.read_csv('/content/drive/MyDrive/Steam/combi.csv')\n",
        "combi = pd.read_csv('Dataset/combi.csv')\n",
        "\n",
        "\n",
        "\n",
        "# 数据集划分\n",
        "Train_data = combi[(combi['Time'] > '2021-12-20 08:00:00') & (combi['Time'] < '2021-12-22 23:30:00')]\n",
        "pred_data = combi[combi['Time'] >= '2021-12-22 23:30:00']\n",
        "\n",
        "# train_data, val_data = train_test_split(Train_data, test_size=0.2, random_state=42)\n",
        "\n",
        "\n",
        "# # 特征选择\n",
        "# features = ['2wind', 'SO2','NOx', 'Fan_speed', 'Grate_run','simu']\n",
        "features = ['2wind', 'SO2','NOx', 'Fan_speed','simu']\n",
        "\n",
        "if True:\n",
        "  # redivision\n",
        "  sample_weight, adv_cv_results = utils.adv_val(Train_data, pred_data, features)\n",
        "  Train_data['sample_weight'] = sample_weight[:-1800]\n",
        "  # train_data = Train_data[Train_data['sample_weight'] < 0.005]\n",
        "  val_data = Train_data[Train_data['sample_weight'] >= 0.015]\n",
        "  Train_data.loc[Train_data['sample_weight'] >= 0.015, 'sample_weight'] = None\n",
        "  Train_data['Is_Train'] = Train_data.loc[:, 'sample_weight'].rolling(200, center=True).sum()\n",
        "  train_data = Train_data[Train_data['Is_Train'] > 0]\n",
        "\n",
        "  print('train_data:', train_data.shape)\n",
        "  print('val_data:', val_data.shape)"
      ]
    },
    {
      "cell_type": "code",
      "execution_count": null,
      "metadata": {
        "colab": {
          "base_uri": "https://localhost:8080/",
          "height": 1000
        },
        "id": "0qL3Hpm4pfGE",
        "outputId": "bb0de54c-6f4e-43aa-f342-4b752071ca19"
      },
      "outputs": [],
      "source": [
        "# 参数设置\n",
        "Mode = 'train'\n",
        "\n",
        "if Mode == 'pred':\n",
        "    train_data = pd.concat([train_data, val_data], axis=0)\n",
        "\n",
        "# 模型选择及运行\n",
        "# # linear_regression\n",
        "# Y_train, Y_val, Y_pred, model = models.linear_regression(train_data, val_data, pred_data, features)\n",
        "\n",
        "# # # linear_regression_cv\n",
        "# model, scores = models.linear_regression_cv(train_data, features)\n",
        "\n",
        "# LightGBM\n",
        "Y_train, Y_val, Y_pred, model= models.LightGBM(train_data, val_data, pred_data, features, Mode)\n",
        "lgb.plot_importance(model, max_num_features=21)\n",
        "\n",
        "# # LightGBM_param_cv\n",
        "# model= models.LightGBM_param_cv(train_data, val_data, pred_data, features, Mode)\n",
        "\n",
        "# # XGBoost\n",
        "# Y_train, Y_val, Y_pred, model= models.XGBoost(train_data, val_data, pred_data, features, Mode)\n",
        "\n",
        "# # XGBoost_param_cv\n",
        "# model= models.XGBoost_param_cv(train_data, val_data, pred_data, features, Mode)\n",
        "# model.best_params_\n",
        "\n",
        "# # Arima\n",
        "# result = models.Arima(train_data, val_data, pred_data, features, Mode)\n",
        "\n",
        "# # Elastic_net\n",
        "# Y_train, Y_val, Y_pred, model = models.ElasticNet(train_data, val_data, pred_data, features, Mode)\n",
        "\n",
        "# # Elastic_net_cv\n",
        "# model = models.ElascicNet_cv(train_data, val_data, pred_data, features, Mode)"
      ]
    },
    {
      "cell_type": "code",
      "execution_count": null,
      "metadata": {
        "colab": {
          "base_uri": "https://localhost:8080/",
          "height": 1000
        },
        "id": "sYolw-BvpfGF",
        "outputId": "c4d6bc88-5c20-49dd-a069-383646764adc"
      },
      "outputs": [],
      "source": [
        "print('train_error:', mean_squared_error(train_data['Steam_flow'], Y_train, squared=False))\n",
        "print('val_error', mean_squared_error(val_data['Steam_flow'], Y_val, squared=False))\n",
        "\n",
        "plt.figure(figsize=(20, 10))\n",
        "plt.plot(np.arange(len(train_data)), train_data['Steam_flow'], color='black')\n",
        "plt.plot(np.arange(len(train_data)), Y_train, color='blue')\n",
        "plt.ylabel('Steam_flow')\n",
        "plt.legend(['真实值','预测值'],loc='upper right')\n",
        "\n",
        "plt.figure(figsize=(20, 10))\n",
        "plt.plot(np.arange(len(val_data)), val_data['Steam_flow'], color='black')\n",
        "plt.plot(np.arange(len(val_data)), Y_val, color='blue')\n",
        "plt.ylabel('Steam_flow')\n",
        "plt.legend(['真实值','预测值'],loc='upper right')\n",
        "plt.grid()\n",
        "plt.show()\n",
        "\n",
        "plt.figure(figsize=(20, 10))\n",
        "plt.plot(np.arange(len(pred_data)), Y_pred)\n"
      ]
    },
    {
      "cell_type": "code",
      "execution_count": null,
      "metadata": {
        "colab": {
          "base_uri": "https://localhost:8080/"
        },
        "id": "NcWxgccJpfGF",
        "outputId": "408e3f8a-b9b8-45b7-bcd4-b6b1eef336a9"
      },
      "outputs": [],
      "source": [
        "pred_data['ID'] = np.arange(1, len(pred_data)+1)\n",
        "pred_data['Steam_flow'] = Y_pred\n",
        "pred_data = pred_data[['ID', 'Time', 'Steam_flow']]\n",
        "pred_data.to_csv(\"result.csv\", index=False, sep=',')"
      ]
    }
  ],
  "metadata": {
    "colab": {
      "provenance": []
    },
    "kernelspec": {
      "display_name": "Julia 1.7.3",
      "language": "julia",
      "name": "julia-1.7"
    },
    "language_info": {
      "codemirror_mode": {
        "name": "ipython",
        "version": 3
      },
      "file_extension": ".py",
      "mimetype": "text/x-python",
      "name": "julia",
      "nbconvert_exporter": "python",
      "pygments_lexer": "ipython3",
      "version": "3.9.13"
    },
    "orig_nbformat": 4,
    "vscode": {
      "interpreter": {
        "hash": "f7382409c0718be7deb72b4417a98bad7c6c9b79245512f2c3556c6c05fa6b9b"
      }
    }
  },
  "nbformat": 4,
  "nbformat_minor": 0
}
